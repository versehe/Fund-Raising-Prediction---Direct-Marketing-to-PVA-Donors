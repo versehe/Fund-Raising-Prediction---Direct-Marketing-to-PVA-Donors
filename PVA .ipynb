{
 "cells": [
  {
   "cell_type": "markdown",
   "metadata": {},
   "source": [
    "### Name： Zhong He， Cai Juan Luo\n",
    "### Date: September 21st 2017\n",
    "### Project: Fund Raising Prediction - Direct Marketing to PVA Donors"
   ]
  },
  {
   "cell_type": "markdown",
   "metadata": {},
   "source": [
    "# Step 1: Data Preparation"
   ]
  },
  {
   "cell_type": "markdown",
   "metadata": {},
   "source": [
    "## 1.1 load dataset"
   ]
  },
  {
   "cell_type": "code",
   "execution_count": 1,
   "metadata": {
    "collapsed": false
   },
   "outputs": [
    {
     "name": "stdout",
     "output_type": "stream",
     "text": [
      "True\n"
     ]
    }
   ],
   "source": [
    "import pandas as pd\n",
    "import numpy as np\n",
    "import sklearn\n",
    "\n",
    "learndata = pd.read_csv('cup98LRN.txt', header = 0, dtype={\"NOEXCH\": np.str})\n",
    "#valdata = pd.read_csv('cup98VAL.txt', header = 0)\n",
    "#valdata.head(5)\n",
    "print('TARGET_B' in learndata )"
   ]
  },
  {
   "cell_type": "markdown",
   "metadata": {},
   "source": [
    "## 1.2 target distribution "
   ]
  },
  {
   "cell_type": "code",
   "execution_count": 4,
   "metadata": {
    "collapsed": false
   },
   "outputs": [
    {
     "name": "stdout",
     "output_type": "stream",
     "text": [
      "Number of obs in learning data: 95412\n",
      "0    90569\n",
      "1     4843\n",
      "Name: TARGET_B, dtype: int64\n",
      "0\n",
      "no missing values for TARGET_B\n",
      "only 5.075881440489666 % donors respond\n"
     ]
    }
   ],
   "source": [
    "print('Number of obs in learning data:',len(learndata))\n",
    "\n",
    "respond= pd.value_counts(learndata['TARGET_B'])\n",
    "print(respond)\n",
    "print(4843+90569-len(learndata) )\n",
    "print('no missing values for TARGET_B')\n",
    "print('only', 4843/95412*100, '% donors respond')"
   ]
  },
  {
   "cell_type": "markdown",
   "metadata": {},
   "source": [
    "## 1.3 encode data into numerics"
   ]
  },
  {
   "cell_type": "code",
   "execution_count": 5,
   "metadata": {
    "collapsed": false,
    "scrolled": false
   },
   "outputs": [
    {
     "name": "stdout",
     "output_type": "stream",
     "text": [
      "number of string column: 74\n"
     ]
    },
    {
     "name": "stderr",
     "output_type": "stream",
     "text": [
      "E:\\python\\lib\\site-packages\\ipykernel\\__main__.py:13: SettingWithCopyWarning: \n",
      "A value is trying to be set on a copy of a slice from a DataFrame\n",
      "\n",
      "See the caveats in the documentation: http://pandas.pydata.org/pandas-docs/stable/indexing.html#indexing-view-versus-copy\n"
     ]
    },
    {
     "name": "stdout",
     "output_type": "stream",
     "text": [
      "number of string column: 0\n"
     ]
    }
   ],
   "source": [
    "from sklearn import preprocessing\n",
    "\n",
    "#First, find all string columns\n",
    "string=learndata.select_dtypes(['object'])\n",
    "print('number of string column:',len(string.columns))\n",
    "\n",
    "#remove all space in string data\n",
    "learndata[string.columns] = string.apply(lambda x: x.str.strip())\n",
    "\n",
    "# label encoder\n",
    "for x in string.columns:\n",
    "    le = preprocessing.LabelEncoder()\n",
    "    learndata[x][learndata[x].isnull()] = 'NaN' # replace missing value into NaN\n",
    "    le.fit(learndata[x])\n",
    "    learndata[x]=le.transform(learndata[x]) \n",
    "    \n",
    "#check again\n",
    "string=learndata.select_dtypes(['object'])\n",
    "print('number of string column:',len(string.columns))\n",
    "\n",
    "# Convert values back to their category names\n",
    "#list(le.inverse_transform(x))\n",
    "\n",
    "\n"
   ]
  },
  {
   "cell_type": "markdown",
   "metadata": {},
   "source": [
    "## 1.4 feature selection"
   ]
  },
  {
   "cell_type": "code",
   "execution_count": 6,
   "metadata": {
    "collapsed": false
   },
   "outputs": [
    {
     "name": "stdout",
     "output_type": "stream",
     "text": [
      "(95412, 17)\n",
      "17\n"
     ]
    }
   ],
   "source": [
    "from sklearn.feature_selection import RFE\n",
    "from sklearn.ensemble import ExtraTreesClassifier\n",
    "from sklearn.feature_selection import SelectFromModel\n",
    "\n",
    "X=learndata.drop('TARGET_B', axis=1)\n",
    "Y=learndata.TARGET_B\n",
    "\n",
    "X = X.fillna(-1,axis=1)\n",
    "\n",
    "clf = ExtraTreesClassifier(n_estimators=1000,random_state =1234)\n",
    "clf = clf.fit(X, Y)\n",
    "clf.feature_importances_  \n",
    "model = SelectFromModel(clf, prefit=True)\n",
    "X_new = model.transform(X)\n",
    "print(X_new.shape)\n",
    "\n",
    "\n",
    "# get the column names back for X_new\n",
    "count=0\n",
    "feature= list()\n",
    "for col in model.get_support():\n",
    "    if col == True:\n",
    "        feature.append(count) \n",
    "    count = count +1\n",
    "print(len(feature))\n",
    "\n",
    "name=learndata.columns[feature]\n",
    "\n",
    "X_new= pd.DataFrame(X_new, columns=name)\n",
    "#X_new"
   ]
  },
  {
   "cell_type": "markdown",
   "metadata": {},
   "source": [
    "## 1.5 oversampling to 70/30"
   ]
  },
  {
   "cell_type": "code",
   "execution_count": 5,
   "metadata": {
    "collapsed": false
   },
   "outputs": [
    {
     "name": "stdout",
     "output_type": "stream",
     "text": [
      "0.0    90569\n",
      "1.0    38826\n",
      "Name: TARGET_B, dtype: int64\n",
      "now 30.005796205417518 % donors respond in our new oversampled dataset\n",
      "Number of obs in new dataset: 129395\n"
     ]
    }
   ],
   "source": [
    "from sklearn.utils import resample\n",
    "\n",
    "\n",
    "x1=X_new[X_new.TARGET_B==1]\n",
    "y0=X_new[X_new.TARGET_B==0]\n",
    "\n",
    "oversampled = resample(x1,replace=True,n_samples=38826,random_state=123) \n",
    "df = pd.concat([oversampled, y0])\n",
    "new_rate=pd.value_counts(df['TARGET_B'])\n",
    "print(new_rate)\n",
    "print('now', 38826/len(df)*100, '% donors respond in our new oversampled dataset')\n",
    "print('Number of obs in new dataset:',len(df))"
   ]
  },
  {
   "cell_type": "markdown",
   "metadata": {},
   "source": [
    "## 1.6 data partition"
   ]
  },
  {
   "cell_type": "code",
   "execution_count": 6,
   "metadata": {
    "collapsed": false
   },
   "outputs": [
    {
     "name": "stdout",
     "output_type": "stream",
     "text": [
      "0.30006845080374495\n"
     ]
    }
   ],
   "source": [
    "# df_train 70%\n",
    "# df_val   30%\n",
    "from sklearn.model_selection import train_test_split\n",
    "\n",
    "X, y = df.drop('TARGET_B', axis=1), df.TARGET_B\n",
    "X_train, X_test, y_train, y_test = train_test_split( X, y, test_size=0.3, random_state=42)\n",
    "print(len(y_train[y_train==1])/len(y_train))\n"
   ]
  },
  {
   "cell_type": "markdown",
   "metadata": {},
   "source": [
    "# Step 2: Model"
   ]
  },
  {
   "cell_type": "markdown",
   "metadata": {
    "collapsed": false
   },
   "source": [
    "## 2.1 Logistic Regression\n",
    "\n"
   ]
  },
  {
   "cell_type": "code",
   "execution_count": 7,
   "metadata": {
    "collapsed": false
   },
   "outputs": [
    {
     "name": "stderr",
     "output_type": "stream",
     "text": [
      "E:\\python\\lib\\site-packages\\statsmodels\\compat\\pandas.py:56: FutureWarning: The pandas.core.datetools module is deprecated and will be removed in a future version. Please use the pandas.tseries module instead.\n",
      "  from pandas.core import datetools\n"
     ]
    },
    {
     "name": "stdout",
     "output_type": "stream",
     "text": [
      "Optimization terminated successfully.\n",
      "         Current function value: 0.276392\n",
      "         Iterations 12\n",
      "                           Logit Regression Results                           \n",
      "==============================================================================\n",
      "Dep. Variable:               TARGET_B   No. Observations:                90576\n",
      "Model:                          Logit   Df Residuals:                    90560\n",
      "Method:                           MLE   Df Model:                           15\n",
      "Date:                Mon, 25 Sep 2017   Pseudo R-squ.:                  0.5476\n",
      "Time:                        20:47:05   Log-Likelihood:                -25035.\n",
      "converged:                       True   LL-Null:                       -55335.\n",
      "                                        LLR p-value:                     0.000\n",
      "==============================================================================\n",
      "                 coef    std err          z      P>|z|      [0.025      0.975]\n",
      "------------------------------------------------------------------------------\n",
      "TCODE         -0.0057      0.001    -10.614      0.000      -0.007      -0.005\n",
      "POP901         0.0017   3.68e-05     46.446      0.000       0.002       0.002\n",
      "POP902        -0.0017      0.000    -13.237      0.000      -0.002      -0.001\n",
      "POP903        -0.0041      0.000    -40.342      0.000      -0.004      -0.004\n",
      "PEC1          -0.0932      0.005    -19.433      0.000      -0.103      -0.084\n",
      "ANC1          -0.0331      0.009     -3.874      0.000      -0.050      -0.016\n",
      "RFA_2         26.8997      0.594     45.288      0.000      25.736      28.064\n",
      "CARDPM12       0.3920      0.016     23.951      0.000       0.360       0.424\n",
      "NUMPRM12      -0.0370      0.003    -10.654      0.000      -0.044      -0.030\n",
      "CARDGIFT      -0.0046      0.003     -1.605      0.109      -0.010       0.001\n",
      "MAXRDATE       0.0004   7.35e-05      5.622      0.000       0.000       0.001\n",
      "LASTDATE       0.0122      0.000     41.711      0.000       0.012       0.013\n",
      "NEXTDATE       0.0003   1.05e-05     24.970      0.000       0.000       0.000\n",
      "TIMELAG       -0.0346      0.002    -14.808      0.000      -0.039      -0.030\n",
      "RFA_2R       -97.9050      2.181    -44.889      0.000    -102.180     -93.630\n",
      "RFA_2F       -27.1273      0.593    -45.775      0.000     -28.289     -25.966\n",
      "==============================================================================\n",
      "\n",
      "Possibly complete quasi-separation: A fraction 0.21 of observations can be\n",
      "perfectly predicted. This might indicate that there is complete\n",
      "quasi-separation. In this case some parameters will not be identified.\n"
     ]
    }
   ],
   "source": [
    "import statsmodels.api as sm\n",
    "\n",
    "logit = sm.Logit(y_train, X_train)\n",
    "\n",
    "# fit the model\n",
    "result = logit.fit()\n",
    "print(result.summary())"
   ]
  },
  {
   "cell_type": "code",
   "execution_count": 8,
   "metadata": {
    "collapsed": false
   },
   "outputs": [
    {
     "name": "stdout",
     "output_type": "stream",
     "text": [
      "Optimization terminated successfully.\n",
      "         Current function value: 0.279379\n",
      "         Iterations 11\n",
      "                           Logit Regression Results                           \n",
      "==============================================================================\n",
      "Dep. Variable:               TARGET_B   No. Observations:                38819\n",
      "Model:                          Logit   Df Residuals:                    38803\n",
      "Method:                           MLE   Df Model:                           15\n",
      "Date:                Mon, 25 Sep 2017   Pseudo R-squ.:                  0.5427\n",
      "Time:                        20:47:14   Log-Likelihood:                -10845.\n",
      "converged:                       True   LL-Null:                       -23714.\n",
      "                                        LLR p-value:                     0.000\n",
      "==============================================================================\n",
      "                 coef    std err          z      P>|z|      [0.025      0.975]\n",
      "------------------------------------------------------------------------------\n",
      "TCODE         -0.0047      0.001     -8.488      0.000      -0.006      -0.004\n",
      "POP901         0.0015   5.29e-05     27.903      0.000       0.001       0.002\n",
      "POP902        -0.0014      0.000     -6.957      0.000      -0.002      -0.001\n",
      "POP903        -0.0037      0.000    -24.871      0.000      -0.004      -0.003\n",
      "PEC1          -0.0824      0.007    -11.836      0.000      -0.096      -0.069\n",
      "ANC1          -0.0357      0.013     -2.710      0.007      -0.061      -0.010\n",
      "RFA_2         24.8125      0.875     28.350      0.000      23.097      26.528\n",
      "CARDPM12       0.3409      0.024     14.032      0.000       0.293       0.389\n",
      "NUMPRM12      -0.0291      0.005     -5.514      0.000      -0.039      -0.019\n",
      "CARDGIFT       0.0056      0.004      1.242      0.214      -0.003       0.014\n",
      "MAXRDATE       0.0006      0.000      5.726      0.000       0.000       0.001\n",
      "LASTDATE       0.0110      0.000     25.422      0.000       0.010       0.012\n",
      "NEXTDATE       0.0003   1.56e-05     16.095      0.000       0.000       0.000\n",
      "TIMELAG       -0.0340      0.004     -9.535      0.000      -0.041      -0.027\n",
      "RFA_2R       -90.2543      3.214    -28.082      0.000     -96.554     -83.955\n",
      "RFA_2F       -25.0757      0.873    -28.715      0.000     -26.787     -23.364\n",
      "==============================================================================\n",
      "\n",
      "Possibly complete quasi-separation: A fraction 0.19 of observations can be\n",
      "perfectly predicted. This might indicate that there is complete\n",
      "quasi-separation. In this case some parameters will not be identified.\n"
     ]
    }
   ],
   "source": [
    "logit = sm.Logit(y_test, X_test)\n",
    "\n",
    "# fit the model\n",
    "result = logit.fit()\n",
    "print(result.summary())"
   ]
  },
  {
   "cell_type": "markdown",
   "metadata": {},
   "source": [
    "## 2.2 Decision Tree"
   ]
  },
  {
   "cell_type": "code",
   "execution_count": 9,
   "metadata": {
    "collapsed": false
   },
   "outputs": [],
   "source": [
    "from sklearn import tree\n",
    "clf = tree.DecisionTreeClassifier()\n",
    "clf = clf.fit(X_train, y_train)\n",
    "\n",
    "tree.export_graphviz(clf, out_file='tree.dot',feature_names=X_train.columns )\n",
    "\n",
    "\n"
   ]
  },
  {
   "cell_type": "markdown",
   "metadata": {},
   "source": [
    "To see whole tree:\n",
    "    copy code in 'tree.dot' file and\n",
    "    paste it to http://webgraphviz.com/\n",
    "\n",
    "![alt text](Capture2.PNG)"
   ]
  },
  {
   "cell_type": "markdown",
   "metadata": {},
   "source": [
    "## 2.3 Random Forrest"
   ]
  },
  {
   "cell_type": "code",
   "execution_count": 12,
   "metadata": {
    "collapsed": false
   },
   "outputs": [
    {
     "name": "stdout",
     "output_type": "stream",
     "text": [
      "Train data R-2 score: 0.999963703252\n",
      "Test data R-2 score: 0.999682054237\n"
     ]
    },
    {
     "data": {
      "text/html": [
       "<div>\n",
       "<style>\n",
       "    .dataframe thead tr:only-child th {\n",
       "        text-align: right;\n",
       "    }\n",
       "\n",
       "    .dataframe thead th {\n",
       "        text-align: left;\n",
       "    }\n",
       "\n",
       "    .dataframe tbody tr th {\n",
       "        vertical-align: top;\n",
       "    }\n",
       "</style>\n",
       "<table border=\"1\" class=\"dataframe\">\n",
       "  <thead>\n",
       "    <tr style=\"text-align: right;\">\n",
       "      <th></th>\n",
       "      <th>Importance</th>\n",
       "    </tr>\n",
       "  </thead>\n",
       "  <tbody>\n",
       "    <tr>\n",
       "      <th>RFA_2</th>\n",
       "      <td>0.259200</td>\n",
       "    </tr>\n",
       "    <tr>\n",
       "      <th>RFA_2R</th>\n",
       "      <td>0.252704</td>\n",
       "    </tr>\n",
       "    <tr>\n",
       "      <th>POP903</th>\n",
       "      <td>0.184759</td>\n",
       "    </tr>\n",
       "    <tr>\n",
       "      <th>LASTDATE</th>\n",
       "      <td>0.097940</td>\n",
       "    </tr>\n",
       "    <tr>\n",
       "      <th>MAXRDATE</th>\n",
       "      <td>0.064224</td>\n",
       "    </tr>\n",
       "    <tr>\n",
       "      <th>NEXTDATE</th>\n",
       "      <td>0.056063</td>\n",
       "    </tr>\n",
       "    <tr>\n",
       "      <th>TIMELAG</th>\n",
       "      <td>0.048103</td>\n",
       "    </tr>\n",
       "    <tr>\n",
       "      <th>NUMPRM12</th>\n",
       "      <td>0.022766</td>\n",
       "    </tr>\n",
       "    <tr>\n",
       "      <th>POP901</th>\n",
       "      <td>0.005293</td>\n",
       "    </tr>\n",
       "    <tr>\n",
       "      <th>RFA_2F</th>\n",
       "      <td>0.003416</td>\n",
       "    </tr>\n",
       "    <tr>\n",
       "      <th>POP902</th>\n",
       "      <td>0.003195</td>\n",
       "    </tr>\n",
       "    <tr>\n",
       "      <th>PEC1</th>\n",
       "      <td>0.000892</td>\n",
       "    </tr>\n",
       "    <tr>\n",
       "      <th>CARDGIFT</th>\n",
       "      <td>0.000772</td>\n",
       "    </tr>\n",
       "    <tr>\n",
       "      <th>TCODE</th>\n",
       "      <td>0.000555</td>\n",
       "    </tr>\n",
       "    <tr>\n",
       "      <th>CARDPM12</th>\n",
       "      <td>0.000080</td>\n",
       "    </tr>\n",
       "    <tr>\n",
       "      <th>ANC1</th>\n",
       "      <td>0.000039</td>\n",
       "    </tr>\n",
       "  </tbody>\n",
       "</table>\n",
       "</div>"
      ],
      "text/plain": [
       "          Importance\n",
       "RFA_2       0.259200\n",
       "RFA_2R      0.252704\n",
       "POP903      0.184759\n",
       "LASTDATE    0.097940\n",
       "MAXRDATE    0.064224\n",
       "NEXTDATE    0.056063\n",
       "TIMELAG     0.048103\n",
       "NUMPRM12    0.022766\n",
       "POP901      0.005293\n",
       "RFA_2F      0.003416\n",
       "POP902      0.003195\n",
       "PEC1        0.000892\n",
       "CARDGIFT    0.000772\n",
       "TCODE       0.000555\n",
       "CARDPM12    0.000080\n",
       "ANC1        0.000039"
      ]
     },
     "execution_count": 12,
     "metadata": {},
     "output_type": "execute_result"
    }
   ],
   "source": [
    "from sklearn.ensemble import RandomForestRegressor\n",
    "\n",
    "clf = RandomForestRegressor(n_estimators=1000,random_state =111)\n",
    "clf = clf.fit(X_train, y_train) \n",
    "\n",
    "from sklearn.metrics import r2_score\n",
    "predicted_train = clf.predict(X_train)\n",
    "train_score = r2_score(y_train, predicted_train)\n",
    "print('Train data R-2 score:',train_score )\n",
    "\n",
    "predicted_test = clf.predict(X_test)\n",
    "test_score = r2_score(y_test, predicted_test)\n",
    "print('Test data R-2 score:',test_score )\n",
    "\n",
    "\n",
    "importance = clf.feature_importances_\n",
    "importance = pd.DataFrame(importance, index=X_train.columns, \n",
    "                          columns=[\"Importance\"])\n",
    "importance.sort_values(by='Importance',ascending= False)"
   ]
  },
  {
   "cell_type": "code",
   "execution_count": null,
   "metadata": {
    "collapsed": true
   },
   "outputs": [],
   "source": []
  }
 ],
 "metadata": {
  "anaconda-cloud": {},
  "kernelspec": {
   "display_name": "Python [default]",
   "language": "python",
   "name": "python3"
  },
  "language_info": {
   "codemirror_mode": {
    "name": "ipython",
    "version": 3
   },
   "file_extension": ".py",
   "mimetype": "text/x-python",
   "name": "python",
   "nbconvert_exporter": "python",
   "pygments_lexer": "ipython3",
   "version": "3.5.2"
  }
 },
 "nbformat": 4,
 "nbformat_minor": 1
}
